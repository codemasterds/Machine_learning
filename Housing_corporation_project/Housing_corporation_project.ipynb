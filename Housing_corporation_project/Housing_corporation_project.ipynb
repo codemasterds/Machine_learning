{
 "cells": [
  {
   "cell_type": "code",
   "execution_count": null,
   "metadata": {},
   "outputs": [],
   "source": [
    "import os\n",
    "import tarfile\n",
    "from six.moves import urllib"
   ]
  },
  {
   "cell_type": "code",
   "execution_count": null,
   "metadata": {},
   "outputs": [],
   "source": [
    "download_root=\"https://raw.githubusercontent.com/ageron/handson-ml2/master/\"\n",
    "housing_path=os.path.join(\"datasets\",\"housing\")\n",
    "#print(os.path.join(\"datasets\",\"housing\"))\n",
    "housing_url=download_root+\"datasets/housing/housing.tgz\"\n",
    "\n",
    "def fetch_housing_data(housing_url,housing_path):\n",
    "    if not os.path.isdir(housing_path):\n",
    "        os.makedirs(housing_path)\n",
    "    #print((os.path.isdir(housing_path)))\n",
    "    tgz_path=os.path.join(housing_path,\"housing.tgz\")\n",
    "    urllib.request.urlretrieve(housing_url,tgz_path)\n",
    "    housing_tgz=tarfile.open(tgz_path)\n",
    "    housing_tgz.extractall(path=housing_path)\n",
    "    housing_tgz.close()\n",
    "fetch_housing_data(housing_url,housing_path)\n"
   ]
  },
  {
   "cell_type": "code",
   "execution_count": null,
   "metadata": {},
   "outputs": [],
   "source": [
    "import pandas as pd\n",
    "hdf=pd.read_csv(housing_path+\"\\housing.csv\")\n",
    "hdf.head(5)\n"
   ]
  },
  {
   "cell_type": "code",
   "execution_count": null,
   "metadata": {},
   "outputs": [],
   "source": [
    "hdf.info()"
   ]
  },
  {
   "cell_type": "code",
   "execution_count": null,
   "metadata": {},
   "outputs": [],
   "source": [
    "hdf['ocean_proximity'].value_counts()"
   ]
  },
  {
   "cell_type": "code",
   "execution_count": null,
   "metadata": {},
   "outputs": [],
   "source": [
    "(hdf.describe())"
   ]
  },
  {
   "cell_type": "code",
   "execution_count": null,
   "metadata": {},
   "outputs": [],
   "source": [
    "%matplotlib inline\n",
    "import matplotlib.pyplot as plt\n",
    "hdf.hist(bins=50, figsize=(20,15))\n",
    "#hdf.hist()\n",
    "plt.show()"
   ]
  },
  {
   "cell_type": "code",
   "execution_count": null,
   "metadata": {},
   "outputs": [],
   "source": [
    "#creating test data set\n",
    "#This is tradiationalway but not  preffered as the indicies are generated at random\n",
    "import numpy as np\n",
    "# def train_test_data(hdf,test_ratio):\n",
    "#     shuffle_indicies=np.random.permutation(len(hdf))\n",
    "#     test_size=int(len(hdf)*test_ratio)\n",
    "#     test_data=hdf.iloc[shuffle_indicies[:test_size]]\n",
    "#     train_data=hdf.iloc[shuffle_indicies[test_size:]]\n",
    "#     return test_data,train_data\n",
    "\n",
    "# test_data,train_data=train_test_data(hdf,0.2)\n",
    "# print(len(train_data))\n",
    "# print(len(test_data))\n",
    "\n",
    "from sklearn.model_selection import train_test_split\n",
    "train_set,test_set= train_test_split(hdf, test_size=0.2, random_state=42)"
   ]
  },
  {
   "cell_type": "code",
   "execution_count": null,
   "metadata": {},
   "outputs": [],
   "source": [
    "hdf[\"income_cat\"]=pd.cut(hdf['median_income'],bins=[0.,1.5,3,4.5,6.,np.inf],labels=[1,2,3,4,5])\n",
    "hdf[\"income_cat\"].hist()"
   ]
  },
  {
   "cell_type": "code",
   "execution_count": null,
   "metadata": {},
   "outputs": [],
   "source": [
    "#creating statifide samples\n",
    "from sklearn.model_selection import StratifiedShuffleSplit\n",
    "split=StratifiedShuffleSplit(n_splits=1,test_size=0.2, random_state=42)\n",
    "for train_index, test_index in split.split(hdf, hdf[\"income_cat\"]):\n",
    "    strat_train_set=hdf.loc[train_index]\n",
    "    strat_test_set=hdf.loc[test_index]\n",
    "print(strat_test_set[\"income_cat\"].value_counts()/len(strat_test_set))\n",
    "    "
   ]
  },
  {
   "cell_type": "code",
   "execution_count": null,
   "metadata": {},
   "outputs": [],
   "source": [
    "#dropping income_cat attribute from hdf\n",
    "for set_ in (strat_train_set,strat_test_set):\n",
    "    #print((strat_train_set.head(5),strat_test_set.head(5)))\n",
    "    set_.drop(\"income_cat\",axis=1,inplace=True)\n",
    "    \n",
    "    "
   ]
  },
  {
   "cell_type": "code",
   "execution_count": null,
   "metadata": {},
   "outputs": [],
   "source": [
    "train_dup=strat_train_set.copy()\n",
    "train_dup.plot(kind=\"scatter\",x=\"longitude\",y=\"latitude\",alpha=0.2)"
   ]
  },
  {
   "cell_type": "code",
   "execution_count": null,
   "metadata": {},
   "outputs": [],
   "source": [
    "#calculating corr between two attributes\n",
    "corr_matrix=train_dup.corr()\n",
    "#print(corr_matrix)\n",
    "corr_matrix['median_house_value'].sort_values(ascending=False)"
   ]
  },
  {
   "cell_type": "code",
   "execution_count": null,
   "metadata": {},
   "outputs": [],
   "source": [
    "train_dup.plot(kind=\"scatter\",x=\"longitude\",y=\"latitude\",alpha=0.4,s=train_dup[\"population\"]/100,label=\"population\",\n",
    "              figsize=(10,7), c=\"median_house_value\",cmap=plt.get_cmap(\"jet\"),colorbar=True,sharex=False)\n",
    "plt.legend()"
   ]
  },
  {
   "cell_type": "code",
   "execution_count": null,
   "metadata": {},
   "outputs": [],
   "source": [
    "#ploting scatter_matix for correation \n",
    "# import pandas.plotting\n",
    "from pandas.plotting import scatter_matrix\n",
    "attributes=[\"median_house_value\",\"median_income\",\"total_rooms\",\"housing_median_age\",\"latitude\"]\n",
    "scatter_matrix(train_dup[attributes],figsize=(12,8))"
   ]
  },
  {
   "cell_type": "code",
   "execution_count": null,
   "metadata": {},
   "outputs": [],
   "source": [
    "train_dup.plot(kind=\"scatter\", x=\"median_income\",y=\"median_house_value\",alpha=0.1)\n",
    "plt.show()"
   ]
  },
  {
   "cell_type": "code",
   "execution_count": null,
   "metadata": {},
   "outputs": [],
   "source": [
    "#checking other attributes contibution\n",
    "train_dup[\"rooms_per_household\"]=train_dup[\"total_rooms\"]/train_dup[\"households\"]\n",
    "train_dup[\"bedrooms_per_rooms\"]=train_dup[\"total_bedrooms\"]/train_dup[\"total_rooms\"]\n",
    "train_dup[\"population_per_household\"]=train_dup[\"population\"]/train_dup[\"households\"]\n",
    "corr_matrix=train_dup.corr()\n",
    "corr_matrix[\"median_house_value\"].sort_values(ascending=False)"
   ]
  },
  {
   "cell_type": "markdown",
   "metadata": {},
   "source": [
    "Data Cleaning"
   ]
  },
  {
   "cell_type": "code",
   "execution_count": 26,
   "metadata": {},
   "outputs": [],
   "source": [
    "from sklearn.impute import SimpleImputer\n",
    "imputer=SimpleImputer(strategy=\"median\")\n",
    "#droping text attributes\n",
    "train_num=strat_train_set.drop(\"ocean_proximity\",axis=1)\n",
    "imputer.fit(train_num)\n",
    "imputer.statistics_\n",
    "X=imputer.transform(train_num)\n",
    "train_df=pd.DataFrame(X,columns=train_num.columns)"
   ]
  },
  {
   "cell_type": "code",
   "execution_count": null,
   "metadata": {},
   "outputs": [],
   "source": []
  },
  {
   "cell_type": "code",
   "execution_count": null,
   "metadata": {},
   "outputs": [],
   "source": []
  },
  {
   "cell_type": "code",
   "execution_count": null,
   "metadata": {},
   "outputs": [],
   "source": []
  },
  {
   "cell_type": "code",
   "execution_count": null,
   "metadata": {},
   "outputs": [],
   "source": []
  },
  {
   "cell_type": "code",
   "execution_count": null,
   "metadata": {},
   "outputs": [],
   "source": []
  }
 ],
 "metadata": {
  "interpreter": {
   "hash": "eda9a07961419bd1f47ac7d7d121478482f30ff4cc19e2194426093dedffee1c"
  },
  "kernelspec": {
   "display_name": "Python 3.9.5 64-bit",
   "language": "python",
   "name": "python3"
  },
  "language_info": {
   "codemirror_mode": {
    "name": "ipython",
    "version": 3
   },
   "file_extension": ".py",
   "mimetype": "text/x-python",
   "name": "python",
   "nbconvert_exporter": "python",
   "pygments_lexer": "ipython3",
   "version": "3.9.5"
  },
  "orig_nbformat": 4
 },
 "nbformat": 4,
 "nbformat_minor": 2
}
