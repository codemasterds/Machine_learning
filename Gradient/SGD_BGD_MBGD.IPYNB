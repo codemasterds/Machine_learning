{
 "cells": [
  {
   "cell_type": "markdown",
   "metadata": {},
   "source": [
    "Implementation of mini batch grandient descent in python\n",
    "\n",
    "We will use very simple home prices data set to implement mini batch gradient descent in python.\n",
    "\n",
    "Batch gradient descent uses all training samples in forward pass to calculate cumulitive error and than we adjust weights using derivaties\n",
    "\n",
    "Stochastic GD: we randomly pick one training sample, perform forward pass, compute the error and immidiately adjust weights\n",
    "\n",
    "Mini batch GD: we use a batch of m samples where 0 < m < n (where n is total number of training samples)"
   ]
  },
  {
   "cell_type": "code",
   "execution_count": 187,
   "metadata": {},
   "outputs": [],
   "source": [
    "import pandas as pd\n",
    "import numpy as np \n",
    "from matplotlib import pyplot as plt \n",
    "%matplotlib inline"
   ]
  },
  {
   "cell_type": "code",
   "execution_count": 188,
   "metadata": {},
   "outputs": [
    {
     "data": {
      "text/html": [
       "<div>\n",
       "<style scoped>\n",
       "    .dataframe tbody tr th:only-of-type {\n",
       "        vertical-align: middle;\n",
       "    }\n",
       "\n",
       "    .dataframe tbody tr th {\n",
       "        vertical-align: top;\n",
       "    }\n",
       "\n",
       "    .dataframe thead th {\n",
       "        text-align: right;\n",
       "    }\n",
       "</style>\n",
       "<table border=\"1\" class=\"dataframe\">\n",
       "  <thead>\n",
       "    <tr style=\"text-align: right;\">\n",
       "      <th></th>\n",
       "      <th>area</th>\n",
       "      <th>bedrooms</th>\n",
       "      <th>price</th>\n",
       "    </tr>\n",
       "  </thead>\n",
       "  <tbody>\n",
       "    <tr>\n",
       "      <th>8</th>\n",
       "      <td>1310</td>\n",
       "      <td>3</td>\n",
       "      <td>50.00</td>\n",
       "    </tr>\n",
       "    <tr>\n",
       "      <th>18</th>\n",
       "      <td>2770</td>\n",
       "      <td>3</td>\n",
       "      <td>102.00</td>\n",
       "    </tr>\n",
       "    <tr>\n",
       "      <th>0</th>\n",
       "      <td>1056</td>\n",
       "      <td>2</td>\n",
       "      <td>39.07</td>\n",
       "    </tr>\n",
       "    <tr>\n",
       "      <th>4</th>\n",
       "      <td>1200</td>\n",
       "      <td>2</td>\n",
       "      <td>51.00</td>\n",
       "    </tr>\n",
       "    <tr>\n",
       "      <th>9</th>\n",
       "      <td>3700</td>\n",
       "      <td>5</td>\n",
       "      <td>167.00</td>\n",
       "    </tr>\n",
       "  </tbody>\n",
       "</table>\n",
       "</div>"
      ],
      "text/plain": [
       "    area  bedrooms   price\n",
       "8   1310         3   50.00\n",
       "18  2770         3  102.00\n",
       "0   1056         2   39.07\n",
       "4   1200         2   51.00\n",
       "9   3700         5  167.00"
      ]
     },
     "execution_count": 188,
     "metadata": {},
     "output_type": "execute_result"
    }
   ],
   "source": [
    "df=pd.read_csv(\"homeprices_banglore.csv\")\n",
    "df.sample(5)"
   ]
  },
  {
   "cell_type": "code",
   "execution_count": 189,
   "metadata": {},
   "outputs": [],
   "source": [
    "from sklearn import preprocessing \n",
    "\n",
    "sx=preprocessing.MinMaxScaler()\n",
    "sy=preprocessing.MinMaxScaler() \n",
    "\n",
    "scaled_x=sx.fit_transform(df.drop(\"price\",axis=\"columns\"))\n",
    "scaled_y=sx.fit_transform(df[['price']])"
   ]
  },
  {
   "cell_type": "code",
   "execution_count": 190,
   "metadata": {},
   "outputs": [],
   "source": [
    "import random\n",
    "def mini_batch_gradient_descent(X, y_true, epochs, learning_rate , batch_size):\n",
    "    \n",
    "    cost_list=[]\n",
    "    epoch_list=[]\n",
    "    total_no_of_features=X.shape[1]\n",
    "    total_samples=X.shape[0]\n",
    "    w=np.ones(shape=(total_no_of_features))\n",
    "    bias=0\n",
    "    i=0\n",
    "    \n",
    "    if batch_size > total_samples: # In this case mini batch becomes same as batch gradient descent\n",
    "        batch_size = total_samples\n",
    "    for epoch in range(epochs):\n",
    "        random_indices= np.random.permutation(total_samples)\n",
    "        X_tmp=X[random_indices]\n",
    "        y_tmp=y_true[random_indices]\n",
    "        #print(X_tmp.shape, y_tmp.shape)\n",
    "        for y in range(0, total_samples, batch_size):\n",
    "            X_mini_sample= X_tmp[y:y+batch_size]  \n",
    "            y_mini=y_tmp[y:y+batch_size]\n",
    "            y_predicted = np.dot(w, X_mini_sample.T)+ bias\n",
    "            w_grad = -(2/len(X_mini_sample))*(X_mini_sample.T.dot(y_mini-y_predicted))\n",
    "            b_grad = -(2/len(X_mini_sample))*np.sum(y_mini-y_predicted)\n",
    "        \n",
    "            w = w - learning_rate * w_grad\n",
    "            bias = bias - learning_rate * b_grad\n",
    "        \n",
    "            cost = np.mean(np.square(y_mini-y_predicted))\n",
    "            i=i+1\n",
    "            if(i%10==0):\n",
    "                cost_list.append(cost)\n",
    "                epoch_list.append(epoch)\n",
    "    return w, bias, cost,  cost_list, epoch_list\n",
    "        \n",
    "        "
   ]
  },
  {
   "cell_type": "code",
   "execution_count": 191,
   "metadata": {},
   "outputs": [
    {
     "data": {
      "text/plain": [
       "(array([0.71001692, 0.67806684]), -0.2333716494031847, 0.004106122339497411)"
      ]
     },
     "execution_count": 191,
     "metadata": {},
     "output_type": "execute_result"
    }
   ],
   "source": [
    "w, bias, cost, cost_list, epoch_list= mini_batch_gradient_descent(scaled_x, scaled_y.reshape(scaled_y.shape[0]), 120, 0.01 , 5 )\n",
    "w, bias , cost "
   ]
  },
  {
   "cell_type": "code",
   "execution_count": 192,
   "metadata": {},
   "outputs": [
    {
     "data": {
      "text/plain": [
       "[<matplotlib.lines.Line2D at 0x27efb782a90>]"
      ]
     },
     "execution_count": 192,
     "metadata": {},
     "output_type": "execute_result"
    },
    {
     "data": {
      "image/png": "[encoded data removed]",
      "text/plain": [
       "<Figure size 432x288 with 1 Axes>"
      ]
     },
     "metadata": {
      "needs_background": "light"
     },
     "output_type": "display_data"
    }
   ],
   "source": [
    "plt.xlabel(\"epoch\")\n",
    "plt.ylabel(\"cost\")\n",
    "plt.plot(epoch_list,cost_list)"
   ]
  }
 ],
 "metadata": {
  "interpreter": {
   "hash": "079b1946560ba735a391ff4227d609baf19cc5759588b06b9d3970f6211e3082"
  },
  "kernelspec": {
   "display_name": "Python 3.9.5 64-bit",
   "language": "python",
   "name": "python3"
  },
  "language_info": {
   "codemirror_mode": {
    "name": "ipython",
    "version": 3
   },
   "file_extension": ".py",
   "mimetype": "text/x-python",
   "name": "python",
   "nbconvert_exporter": "python",
   "pygments_lexer": "ipython3",
   "version": "3.9.5"
  },
  "orig_nbformat": 4
 },
 "nbformat": 4,
 "nbformat_minor": 2
}
